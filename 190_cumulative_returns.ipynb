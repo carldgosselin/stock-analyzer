{
 "cells": [
  {
   "cell_type": "markdown",
   "metadata": {},
   "source": [
    "## Compute cumulative returns"
   ]
  },
  {
   "cell_type": "code",
   "execution_count": 1,
   "metadata": {
    "collapsed": false
   },
   "outputs": [],
   "source": [
    "# The code below increases the size of the output screen..."
   ]
  },
  {
   "cell_type": "code",
   "execution_count": 2,
   "metadata": {
    "collapsed": false
   },
   "outputs": [
    {
     "data": {
      "application/javascript": [
       "IPython.OutputArea.auto_scroll_threshold = 9999;"
      ],
      "text/plain": [
       "<IPython.core.display.Javascript object>"
      ]
     },
     "metadata": {},
     "output_type": "display_data"
    }
   ],
   "source": [
    "%%javascript\n",
    "IPython.OutputArea.auto_scroll_threshold = 9999;"
   ]
  },
  {
   "cell_type": "code",
   "execution_count": 3,
   "metadata": {
    "collapsed": false
   },
   "outputs": [
    {
     "name": "stdout",
     "output_type": "stream",
     "text": [
      "Cumulative returns for year 2016 up-to-date\n",
      "note: with this code, you have the ability to set the start date on the day of purchase.\n",
      "This will tell you the exact cumulative result of your investment.\n",
      "\n",
      "\n",
      "SPY\n",
      "First price:  196.794026\n",
      "Last price:  225.039993\n",
      "cumulative result:  14.3530612052 %\n",
      "\n",
      "\n",
      "UPRO\n",
      "First price:  59.834039\n",
      "Last price:  83.580002\n",
      "cumulative result:  39.6863781835 %\n",
      "\n",
      "\n",
      "GOOG\n",
      "First price:  741.840027\n",
      "Last price:  790.799988\n",
      "cumulative result:  6.59980039066 %\n",
      "\n",
      "\n",
      "AAPL\n",
      "First price:  103.057063\n",
      "Last price:  115.970001\n",
      "cumulative result:  12.5298913283 %\n",
      "\n",
      "\n",
      "AMZN\n",
      "First price:  636.98999\n",
      "Last price:  757.77002\n",
      "cumulative result:  18.9610562012 %\n",
      "\n",
      "\n",
      "DIS\n",
      "First price:  101.455444\n",
      "Last price:  103.910004\n",
      "cumulative result:  2.41934774836 %\n",
      "\n",
      "\n",
      "NFLX\n",
      "First price:  109.959999\n",
      "Last price:  124.220001\n",
      "cumulative result:  12.9683540648 %\n",
      "\n",
      "\n",
      "FB\n",
      "First price:  102.220001\n",
      "Last price:  119.870003\n",
      "cumulative result:  17.2666814981 %\n",
      "\n",
      "\n",
      "AXY\n",
      "First price:  4.687731\n",
      "Last price:  5.19\n",
      "cumulative result:  10.7145439873 %\n",
      "\n",
      "\n",
      "VIX\n",
      "First price:  20.700001\n",
      "Last price:  12.2\n",
      "cumulative result:  -41.0628047796 %\n",
      "\n",
      "\n",
      "TSLA\n",
      "First price:  223.410004\n",
      "Last price:  202.490005\n",
      "cumulative result:  -9.36394907365 %\n",
      "\n",
      "\n",
      "GWPH\n",
      "First price:  68.459999\n",
      "Last price:  114.57\n",
      "cumulative result:  67.3532013928 %\n",
      "\n",
      "\n",
      "MSFT\n",
      "First price:  53.336436\n",
      "Last price:  62.299999\n",
      "cumulative result:  16.8057029532 %\n",
      "\n",
      "\n",
      "GLD\n",
      "First price:  102.889999\n",
      "Last price:  108.050003\n",
      "cumulative result:  5.01506856852 %\n",
      "\n",
      "\n",
      "RY\n",
      "First price:  50.232062\n",
      "Last price:  68.629997\n",
      "cumulative result:  36.6258804984 %\n",
      "\n",
      "\n",
      "TM\n",
      "First price:  119.640975\n",
      "Last price:  121.0\n",
      "cumulative result:  1.13591936207 %\n",
      "\n",
      "\n"
     ]
    }
   ],
   "source": [
    "import os\n",
    "import pandas as pd\n",
    "import matplotlib.pyplot as plt\n",
    "%matplotlib inline\n",
    "\n",
    "def symbol_to_path(symbol, base_dir=\"data\"):\n",
    "    return os.path.join(base_dir, \"{}.csv\".format(str(symbol)))\n",
    "\n",
    "\n",
    "def get_data(symbols, dates):\n",
    "    df = pd.DataFrame(index=dates)\n",
    "    if 'SPY' not in symbols:  # add SPY for reference, if absent\n",
    "        symbols.insert(0, 'SPY')\n",
    "\n",
    "    for symbol in symbols:\n",
    "        df_temp = pd.read_csv(symbol_to_path(symbol), index_col='Date',\n",
    "                parse_dates=True, usecols=['Date', 'Adj Close'], na_values=['nan'])\n",
    "        df_temp = df_temp.rename(columns={'Adj Close': symbol})\n",
    "        df = df.join(df_temp)\n",
    "        if symbol == 'SPY':  # drop dates SPY did not trade\n",
    "            df = df.dropna(subset=[\"SPY\"])\n",
    "\n",
    "    return df\n",
    "\n",
    "\n",
    "def compute_cumulative_returns(df, symbols):\n",
    "    \n",
    "    for symbol in symbols:\n",
    "        \n",
    "        first_price = df[symbol][0]\n",
    "        last_price = df[symbol][-1]\n",
    "        cumulative_result = (last_price / first_price - 1) * 100\n",
    "\n",
    "        print symbol\n",
    "        print \"First price: \", first_price\n",
    "        print \"Last price: \", last_price\n",
    "        print \"cumulative result: \", cumulative_result, \"%\"\n",
    "        print \"\\n\"\n",
    "\n",
    "\n",
    "def run_cumulative_returns():\n",
    "    # Read data\n",
    "    dates = pd.date_range('2016-01-01', '2016-12-18') # cumulative return for the year up-to-date\n",
    "    symbols = ['SPY','UPRO','GOOG','AAPL','AMZN','DIS','NFLX','FB','AXY','VIX','TSLA','GWPH','MSFT','GLD','RY','TM']\n",
    "    df = get_data(symbols, dates)\n",
    "\n",
    "    \n",
    "    print \"Cumulative returns for year 2016 up-to-date\"\n",
    "    print \"note: with this code, you have the ability to set the start date on the day of purchase.\"\n",
    "    print \"This will tell you the exact cumulative result of your investment.\"\n",
    "    print \"\\n\"\n",
    "    \n",
    "    # Compute cumulative returns\n",
    "    compute_cumulative_returns(df, symbols)\n",
    "\n",
    "\n",
    "if __name__ == \"__main__\":\n",
    "    run_cumulative_returns()\n"
   ]
  },
  {
   "cell_type": "code",
   "execution_count": null,
   "metadata": {
    "collapsed": true
   },
   "outputs": [],
   "source": []
  }
 ],
 "metadata": {
  "kernelspec": {
   "display_name": "Python 2",
   "language": "python",
   "name": "python2"
  },
  "language_info": {
   "codemirror_mode": {
    "name": "ipython",
    "version": 2
   },
   "file_extension": ".py",
   "mimetype": "text/x-python",
   "name": "python",
   "nbconvert_exporter": "python",
   "pygments_lexer": "ipython2",
   "version": "2.7.12"
  }
 },
 "nbformat": 4,
 "nbformat_minor": 0
}
