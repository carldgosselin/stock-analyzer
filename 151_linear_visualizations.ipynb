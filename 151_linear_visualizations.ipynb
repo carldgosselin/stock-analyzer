{
 "cells": [
  {
   "cell_type": "markdown",
   "metadata": {},
   "source": [
    "## Linear visualization"
   ]
  },
  {
   "cell_type": "code",
   "execution_count": 1,
   "metadata": {
    "collapsed": false
   },
   "outputs": [
    {
     "data": {
      "application/javascript": [
       "IPython.OutputArea.auto_scroll_threshold = 9999;"
      ],
      "text/plain": [
       "<IPython.core.display.Javascript object>"
      ]
     },
     "metadata": {},
     "output_type": "display_data"
    }
   ],
   "source": [
    "%%javascript\n",
    "IPython.OutputArea.auto_scroll_threshold = 9999;"
   ]
  },
  {
   "cell_type": "code",
   "execution_count": 8,
   "metadata": {
    "collapsed": false
   },
   "outputs": [],
   "source": [
    "import os\n",
    "import pandas as pd\n",
    "import numpy as np\n",
    "import matplotlib.pyplot as plt\n",
    "%matplotlib inline \n",
    "\n",
    "from sklearn.linear_model import LinearRegression\n",
    "\n",
    "def symbol_to_path(symbol, base_dir=\"data\"):\n",
    "    return os.path.join(base_dir, \"{}.csv\".format(str(symbol)))\n",
    "\n",
    "def get_data(symbols, dates):\n",
    "    df = pd.DataFrame(index=dates)\n",
    "    if 'SPY' not in symbols:  # add SPY for reference, if absent\n",
    "        symbols.insert(0, 'SPY')\n",
    "    for symbol in symbols:\n",
    "        df_temp = pd.read_csv(symbol_to_path(symbol), index_col='Date',\n",
    "                parse_dates=True, usecols=['Date', 'Adj Close'], na_values=['nan'])\n",
    "        df_temp = df_temp.rename(columns={'Adj Close': symbol})\n",
    "        df = df.join(df_temp)\n",
    "        if symbol == 'SPY':  # drop dates SPY did not trade\n",
    "            df = df.dropna(subset=[\"SPY\"])\n",
    "    return df\n",
    "\n",
    "\n",
    "def plot_data(df, title):\n",
    "    ax = df.plot(title=title, fontsize=12,figsize=(12,10))\n",
    "    ax.set_xlabel(\"Date\")\n",
    "    ax.set_ylabel(\"Price\")\n",
    "    \n",
    "    print df.loc[0]\n",
    "    \n",
    "    # Regression line\n",
    "    x = df.index\n",
    "    for i in df:\n",
    "        y.append = df.loc[1]\n",
    "    # y = 5*x + 10 \n",
    "    # y = df.get_loc[0]\n",
    "    \n",
    "    # fit with np.polyfit\n",
    "    m, b = np.polyfit(x, y, 1)\n",
    "    plt.plot(x, y, '.')\n",
    "    plt.plot(x, m*x + b, '-')\n",
    "    \n",
    "    plt.legend(bbox_to_anchor=(1.05, 1), loc=2, borderaxespad=0.)\n",
    "    plt.show()\n",
    "\n",
    "    \n",
    "def plot_stocks(df, columns, start_index, end_index):   \n",
    "    # Normalize stock prices\n",
    "    df = df/ df.ix[0,:]\n",
    "    \n",
    "    # Plot stocks separately\n",
    "    plot_data(df.ix[start_index:end_index,columns], title=\"Graph - Normalized Data\")\n",
    "\n",
    "\n",
    "def visualize_me_stocks():\n",
    "    # Define a date range\n",
    "    start = '2015-01-22'\n",
    "    end = '2017-01-22'\n",
    "    dates = pd.date_range(start, end)\n",
    "    \n",
    "    # Create linear regression object\n",
    "    regr = LinearRegression()\n",
    "    \n",
    "    # Choose stock symbols to read.  SPY will be added in get_data()\n",
    "    symbols = ['UPRO','GOOG','AAPL','AMZN','DIS','NFLX','FB','AXY','VIX','TSLA','GWPH','MSFT','GLD']\n",
    "    \n",
    "    # Get stock data\n",
    "    df = get_data(symbols, dates)\n",
    "\n",
    "    # Plot stocks\n",
    "    for i in symbols:\n",
    "        plot_stocks(df, i, start, end)\n",
    "    \n",
    "if __name__ == \"__main__\":\n",
    "    visualize_me_stocks()"
   ]
  },
  {
   "cell_type": "code",
   "execution_count": 13,
   "metadata": {
    "collapsed": false
   },
   "outputs": [
    {
     "name": "stdout",
     "output_type": "stream",
     "text": [
      " []\n",
      "[]\n",
      "\n",
      "\n"
     ]
    }
   ],
   "source": [
    "import csv\n",
    "import numpy as np\n",
    "from sklearn import linear_model\n",
    "import matplotlib.pyplot as plt\n",
    "\n",
    "dates = []\n",
    "prices = []\n",
    "\n",
    "def get_data(filename):\n",
    "\twith open(filename,'r') as csvfile:\n",
    "\t\tcsvFileReader = csv.reader(csvfile)\n",
    "\t\tnext(csvFileReader) #skipping column names\n",
    "\t\tfor row in csvFileReader:\n",
    "\t\t\tdates.append(int(row[0]))\n",
    "\t\t\tprices.append(float(row[1]))\n",
    "\treturn\n",
    "\n",
    "def show_plot(dates,prices):\n",
    "\tlinear_mod = linear_model.LinearRegression()\n",
    "\tdates = np.reshape(dates,(len(dates),1)) # converting to matrix of n X 1\n",
    "\tprices = np.reshape(prices,(len(prices),1))\n",
    "\tlinear_mod.fit(dates,prices) #fitting the data points in the model\n",
    "\tplt.scatter(dates,prices,color='yellow') #plotting the initial datapoints \n",
    "\tplt.plot(dates,linear_mod.predict(dates),color='blue',linewidth=3) #plotting the line made by linear regression\n",
    "\tplt.show()\n",
    "\treturn\n",
    "\n",
    "def predict_price(dates,prices,x):\n",
    "\tlinear_mod = linear_model.LinearRegression() #defining the linear regression model\n",
    "\tdates = np.reshape(dates,(len(dates),1)) # converting to matrix of n X 1\n",
    "\tprices = np.reshape(prices,(len(prices),1))\n",
    "\tlinear_mod.fit(dates,prices) #fitting the data points in the model\n",
    "\tpredicted_price =linear_mod.predict(x)\n",
    "\treturn predicted_price[0][0],linear_mod.coef_[0][0] ,linear_mod.intercept_[0]\n",
    "\n",
    "get_data('data/GOOG.csv') # calling get_data method by passing the csv file to it\n",
    "print dates\n",
    "print prices\n",
    "print \"\\n\"\n",
    "\n",
    "show_plot(dates,prices) \n",
    "#image of the plot will be generated. Save it if you want and then Close it to continue the execution of the below code.\n",
    "\n",
    "predicted_price, coefficient, constant = predict_price(dates,prices,29)  \n",
    "print \"The stock open price for 29th Feb is: $\",str(predicted_price)\n",
    "print \"The regression coefficient is \",str(coefficient),\", and the constant is \", str(constant)\n",
    "print \"the relationship equation between dates and prices is: price = \",str(coefficient),\"* date + \",str(constant) "
   ]
  }
 ],
 "metadata": {
  "kernelspec": {
   "display_name": "Python 2",
   "language": "python",
   "name": "python2"
  },
  "language_info": {
   "codemirror_mode": {
    "name": "ipython",
    "version": 2
   },
   "file_extension": ".py",
   "mimetype": "text/x-python",
   "name": "python",
   "nbconvert_exporter": "python",
   "pygments_lexer": "ipython2",
   "version": "2.7.12"
  }
 },
 "nbformat": 4,
 "nbformat_minor": 0
}
