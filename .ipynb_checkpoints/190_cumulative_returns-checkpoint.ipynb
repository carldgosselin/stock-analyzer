{
 "cells": [
  {
   "cell_type": "markdown",
   "metadata": {},
   "source": [
    "## Compute cumulative returns"
   ]
  },
  {
   "cell_type": "code",
   "execution_count": 1,
   "metadata": {
    "collapsed": false
   },
   "outputs": [],
   "source": [
    "# The code below increases the size of the output screen..."
   ]
  },
  {
   "cell_type": "code",
   "execution_count": 2,
   "metadata": {
    "collapsed": false
   },
   "outputs": [
    {
     "data": {
      "application/javascript": [
       "IPython.OutputArea.auto_scroll_threshold = 9999;"
      ],
      "text/plain": [
       "<IPython.core.display.Javascript object>"
      ]
     },
     "metadata": {},
     "output_type": "display_data"
    }
   ],
   "source": [
    "%%javascript\n",
    "IPython.OutputArea.auto_scroll_threshold = 9999;"
   ]
  },
  {
   "cell_type": "code",
   "execution_count": 4,
   "metadata": {
    "collapsed": false
   },
   "outputs": [
    {
     "name": "stdout",
     "output_type": "stream",
     "text": [
      "Cumulative returns for year 2016 up-to-date\n",
      "note: with this code, you have the ability to set the start date on the day of purchase.\n",
      "This will tell you the exact cumulative result of your investment.\n",
      "\n",
      "\n",
      "SPY\n",
      "First price:  197.953941\n",
      "Last price:  215.990005\n",
      "cumulative result:  9.11124270064 %\n",
      "\n",
      "\n",
      "UPRO\n",
      "First price:  59.834039\n",
      "Last price:  73.360001\n",
      "cumulative result:  22.6057980141 %\n",
      "\n",
      "\n",
      "GOOG\n",
      "First price:  741.840027\n",
      "Last price:  786.900024\n",
      "cumulative result:  6.07408543082 %\n",
      "\n",
      "\n",
      "AAPL\n",
      "First price:  103.58618\n",
      "Last price:  112.709999\n",
      "cumulative result:  8.80795005666 %\n",
      "\n",
      "\n",
      "AMZN\n",
      "First price:  636.98999\n",
      "Last price:  805.75\n",
      "cumulative result:  26.4933535298 %\n",
      "\n",
      "\n",
      "DIS\n",
      "First price:  102.237332\n",
      "Last price:  93.269997\n",
      "cumulative result:  -8.77109645232 %\n",
      "\n",
      "\n",
      "NFLX\n",
      "First price:  109.959999\n",
      "Last price:  95.940002\n",
      "cumulative result:  -12.7500883298 %\n",
      "\n",
      "\n",
      "FB\n",
      "First price:  102.220001\n",
      "Last price:  127.959999\n",
      "cumulative result:  25.1809799924 %\n",
      "\n",
      "\n",
      "AXY\n",
      "First price:  4.7\n",
      "Last price:  6.87\n",
      "cumulative result:  46.170212766 %\n",
      "\n",
      "\n",
      "VIX\n",
      "First price:  20.700001\n",
      "Last price:  12.29\n",
      "cumulative result:  -40.6280221919 %\n",
      "\n",
      "\n",
      "TSLA\n",
      "First price:  223.410004\n",
      "Last price:  207.449997\n",
      "cumulative result:  -7.14381930721 %\n",
      "\n",
      "\n",
      "GWPH\n",
      "First price:  68.459999\n",
      "Last price:  107.559998\n",
      "cumulative result:  57.1136423768 %\n",
      "\n",
      "\n",
      "MSFT\n",
      "First price:  53.696756\n",
      "Last price:  57.43\n",
      "cumulative result:  6.95245723969 %\n",
      "\n",
      "\n",
      "GLD\n",
      "First price:  102.889999\n",
      "Last price:  127.650002\n",
      "cumulative result:  24.0645380898 %\n",
      "\n",
      "\n"
     ]
    }
   ],
   "source": [
    "import os\n",
    "import pandas as pd\n",
    "import matplotlib.pyplot as plt\n",
    "%matplotlib inline\n",
    "\n",
    "def symbol_to_path(symbol, base_dir=\"data\"):\n",
    "    return os.path.join(base_dir, \"{}.csv\".format(str(symbol)))\n",
    "\n",
    "\n",
    "def get_data(symbols, dates):\n",
    "    df = pd.DataFrame(index=dates)\n",
    "    if 'SPY' not in symbols:  # add SPY for reference, if absent\n",
    "        symbols.insert(0, 'SPY')\n",
    "\n",
    "    for symbol in symbols:\n",
    "        df_temp = pd.read_csv(symbol_to_path(symbol), index_col='Date',\n",
    "                parse_dates=True, usecols=['Date', 'Adj Close'], na_values=['nan'])\n",
    "        df_temp = df_temp.rename(columns={'Adj Close': symbol})\n",
    "        df = df.join(df_temp)\n",
    "        if symbol == 'SPY':  # drop dates SPY did not trade\n",
    "            df = df.dropna(subset=[\"SPY\"])\n",
    "\n",
    "    return df\n",
    "\n",
    "\n",
    "def compute_cumulative_returns(df, symbols):\n",
    "    \n",
    "    for symbol in symbols:\n",
    "        \n",
    "        first_price = df[symbol][0]\n",
    "        last_price = df[symbol][-1]\n",
    "        cumulative_result = (last_price / first_price - 1) * 100\n",
    "\n",
    "        print symbol\n",
    "        print \"First price: \", first_price\n",
    "        print \"Last price: \", last_price\n",
    "        print \"cumulative result: \", cumulative_result, \"%\"\n",
    "        print \"\\n\"\n",
    "\n",
    "\n",
    "def run_cumulative_returns():\n",
    "    # Read data\n",
    "    dates = pd.date_range('2016-01-01', '2016-09-26') # cumulative return for the year up-to-date\n",
    "    symbols = ['SPY','UPRO','GOOG','AAPL','AMZN','DIS','NFLX','FB','AXY','VIX','TSLA','GWPH','MSFT','GLD']\n",
    "    df = get_data(symbols, dates)\n",
    "\n",
    "    \n",
    "    print \"Cumulative returns for year 2016 up-to-date\"\n",
    "    print \"note: with this code, you have the ability to set the start date on the day of purchase.\"\n",
    "    print \"This will tell you the exact cumulative result of your investment.\"\n",
    "    print \"\\n\"\n",
    "    \n",
    "    # Compute cumulative returns\n",
    "    compute_cumulative_returns(df, symbols)\n",
    "\n",
    "\n",
    "if __name__ == \"__main__\":\n",
    "    run_cumulative_returns()\n"
   ]
  },
  {
   "cell_type": "code",
   "execution_count": null,
   "metadata": {
    "collapsed": true
   },
   "outputs": [],
   "source": []
  }
 ],
 "metadata": {
  "kernelspec": {
   "display_name": "Python 2",
   "language": "python",
   "name": "python2"
  },
  "language_info": {
   "codemirror_mode": {
    "name": "ipython",
    "version": 2
   },
   "file_extension": ".py",
   "mimetype": "text/x-python",
   "name": "python",
   "nbconvert_exporter": "python",
   "pygments_lexer": "ipython2",
   "version": "2.7.12"
  }
 },
 "nbformat": 4,
 "nbformat_minor": 0
}
