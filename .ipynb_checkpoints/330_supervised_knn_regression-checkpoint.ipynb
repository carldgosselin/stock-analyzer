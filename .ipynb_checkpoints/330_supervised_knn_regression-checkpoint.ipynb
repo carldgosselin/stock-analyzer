{
 "cells": [
  {
   "cell_type": "markdown",
   "metadata": {},
   "source": [
    "## Supervised knn regression"
   ]
  },
  {
   "cell_type": "code",
   "execution_count": 1,
   "metadata": {
    "collapsed": false
   },
   "outputs": [
    {
     "data": {
      "application/javascript": [
       "IPython.OutputArea.auto_scroll_threshold = 9999;"
      ],
      "text/plain": [
       "<IPython.core.display.Javascript object>"
      ]
     },
     "metadata": {},
     "output_type": "display_data"
    }
   ],
   "source": [
    "%%javascript\n",
    "IPython.OutputArea.auto_scroll_threshold = 9999;"
   ]
  },
  {
   "cell_type": "code",
   "execution_count": 2,
   "metadata": {
    "collapsed": false
   },
   "outputs": [
    {
     "name": "stderr",
     "output_type": "stream",
     "text": [
      "/Users/carldgosselin/anaconda/lib/python2.7/site-packages/sklearn/cross_validation.py:44: DeprecationWarning: This module was deprecated in version 0.18 in favor of the model_selection module into which all the refactored classes and functions are moved. Also note that the interface of the new CV iterators are different from that of this module. This module will be removed in 0.20.\n",
      "  \"This module will be removed in 0.20.\", DeprecationWarning)\n",
      "/Users/carldgosselin/anaconda/lib/python2.7/site-packages/sklearn/grid_search.py:43: DeprecationWarning: This module was deprecated in version 0.18 in favor of the model_selection module into which all the refactored classes and functions are moved. This module will be removed in 0.20.\n",
      "  DeprecationWarning)\n"
     ]
    },
    {
     "name": "stdout",
     "output_type": "stream",
     "text": [
      "Training KNeighborsRegressor...\n",
      "best parameter:  {'n_neighbors': 25, 'weights': 'uniform', 'leaf_size': 1}\n",
      "best score:  -63.4668471782\n",
      "\n",
      "\n"
     ]
    },
    {
     "name": "stderr",
     "output_type": "stream",
     "text": [
      "/Users/carldgosselin/anaconda/lib/python2.7/site-packages/matplotlib/collections.py:590: FutureWarning: elementwise comparison failed; returning scalar instead, but in the future will perform elementwise comparison\n",
      "  if self._edgecolors == str('face'):\n"
     ]
    },
    {
     "data": {
      "image/png": "[encoded data removed]",
      "text/plain": [
       "<matplotlib.figure.Figure at 0x10e7dca50>"
      ]
     },
     "metadata": {},
     "output_type": "display_data"
    },
    {
     "name": "stdout",
     "output_type": "stream",
     "text": [
      "Score - variance between prediction and real-world results (n_neighbors = 25)\n",
      "regr.score(X_test, y_test): -10.57\n",
      "Mean squared error:  1412.12817239 \n",
      "\n"
     ]
    }
   ],
   "source": [
    "import time\n",
    "import os\n",
    "import pandas as pd\n",
    "import numpy as np\n",
    "import scipy.optimize as spo\n",
    "import matplotlib.pyplot as plt\n",
    "%matplotlib inline \n",
    "\n",
    "from sklearn.cross_validation import train_test_split\n",
    "from sklearn.neighbors import KNeighborsRegressor\n",
    "from sklearn.grid_search import GridSearchCV\n",
    "from sklearn.metrics import mean_squared_error\n",
    "\n",
    "\n",
    "def symbol_to_path(symbol, base_dir=\"data\"):\n",
    "    return os.path.join(base_dir, \"{}.csv\".format(str(symbol)))\n",
    "\n",
    "\n",
    "def plot_selected(df, columns, start_index, end_index):\n",
    "\n",
    "    plot_data(df.ix[start_index:end_index,columns], title=\"SPY\")\n",
    "    \n",
    "    \n",
    "def plot_data(df, title):\n",
    "    ax = df.plot(title=title,fontsize=12,figsize=(12,10))\n",
    "    ax.set_xlabel(\"Date\")\n",
    "    ax.set_ylabel(\"Price\")\n",
    "    plt.legend(bbox_to_anchor=(1.05, 1), loc=2, borderaxespad=0.)\n",
    "    plt.show()\n",
    "\n",
    "    \n",
    "def train_knn(knn, X, y):\n",
    "    print \"Training {}...\".format(knn.__class__.__name__)\n",
    "    start = time.time()\n",
    "    \n",
    "    # parameters for gridsearchCV\n",
    "    k = [1,5,10,15,20,25,30]\n",
    "    leaves = [1,5,10,15,20,25,30]\n",
    "    weights = ['uniform', 'distance']\n",
    "    parameters = {'n_neighbors': k, 'leaf_size': leaves, 'weights': weights}\n",
    "    \n",
    "    # Implement GridSearchCV\n",
    "    knn = GridSearchCV(knn, parameters, cv=10)\n",
    "    knn.fit(X, y)\n",
    "    \n",
    "    print \"best parameter: \", knn.best_params_\n",
    "    print \"best score: \", knn.best_score_\n",
    "    print \"\\n\"\n",
    "    \n",
    "    end = time.time()\n",
    "    return knn\n",
    "\n",
    "    \n",
    "def show_knn_regression():\n",
    "    \n",
    "    df = pd.read_csv(symbol_to_path('SPY'), index_col='Date', \n",
    "                parse_dates=True, \n",
    "                usecols=['Date', 'Open', 'High', 'Low', 'Close', 'Volume', 'Adj Close'], \n",
    "                na_values=['nan'])\n",
    "    \n",
    "    # sort data chronologically\n",
    "    df = df.sort_index(ascending=True, axis=0)\n",
    "    \n",
    "    # add new column to view Adj Close 5 days later\n",
    "    df['Adj_Close_5_Days_Later'] = df['Adj Close']\n",
    "    df['Adj_Close_5_Days_Later'] = df['Adj_Close_5_Days_Later'].shift(-5)\n",
    "   \n",
    "    X_train = df.iloc[0:1000,:-1]\n",
    "    y_train = df.iloc[0:1000, -1]\n",
    "    X_test = df.iloc[1000:1253,:-1]\n",
    "    y_test = df.iloc[1000:1253, -1]\n",
    "    \n",
    "    # Use knn regression algorithm\n",
    "    knn = KNeighborsRegressor()\n",
    "    train_knn(knn, X_train, y_train)\n",
    "    \n",
    "    # Create linear regression object\n",
    "    # regr = KNeighborsRegressor()\n",
    "    regr = KNeighborsRegressor(n_neighbors=25, weights='uniform', leaf_size=1)\n",
    "\n",
    "    # Fit model to training data\n",
    "    regr.fit(X_train, y_train)\n",
    "    \n",
    "    # Plot outputs\n",
    "    plt.figure(figsize=(12,10))\n",
    "    plt.title(\"Actual results vs machine learning predictions\")\n",
    "    plt.xlabel(\"Prediction\")\n",
    "    plt.ylabel(\"Actual result\")\n",
    "    plt.scatter(regr.predict(X_test), y_test, color='blue')\n",
    "    plt.show()\n",
    "    \n",
    "    # Explained variance score: 1 is perfect\n",
    "    # Score\n",
    "    print \"Score - variance between prediction and real-world results (n_neighbors = 25)\"\n",
    "    print('regr.score(X_test, y_test): %.2f' % regr.score(X_test, y_test))\n",
    "    \n",
    "    # The mean square error\n",
    "    print \"Mean squared error: \", mean_squared_error(regr.predict(X_test), y_test), \"\\n\"\n",
    "    # print(\"Residual sum of squares: %.2f\"\n",
    "          # % np.mean((regr.predict(X_test) - y_test) ** 2))\n",
    "   \n",
    "if __name__ == \"__main__\":\n",
    "    show_knn_regression()"
   ]
  },
  {
   "cell_type": "code",
   "execution_count": null,
   "metadata": {
    "collapsed": true
   },
   "outputs": [],
   "source": []
  }
 ],
 "metadata": {
  "kernelspec": {
   "display_name": "Python 2",
   "language": "python",
   "name": "python2"
  },
  "language_info": {
   "codemirror_mode": {
    "name": "ipython",
    "version": 2
   },
   "file_extension": ".py",
   "mimetype": "text/x-python",
   "name": "python",
   "nbconvert_exporter": "python",
   "pygments_lexer": "ipython2",
   "version": "2.7.12"
  }
 },
 "nbformat": 4,
 "nbformat_minor": 0
}
