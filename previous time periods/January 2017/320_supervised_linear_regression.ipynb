{
 "cells": [
  {
   "cell_type": "markdown",
   "metadata": {},
   "source": [
    "## Supervised linear regression"
   ]
  },
  {
   "cell_type": "code",
   "execution_count": 1,
   "metadata": {
    "collapsed": false
   },
   "outputs": [
    {
     "data": {
      "application/javascript": [
       "IPython.OutputArea.auto_scroll_threshold = 9999;"
      ],
      "text/plain": [
       "<IPython.core.display.Javascript object>"
      ]
     },
     "metadata": {},
     "output_type": "display_data"
    }
   ],
   "source": [
    "%%javascript\n",
    "IPython.OutputArea.auto_scroll_threshold = 9999;"
   ]
  },
  {
   "cell_type": "code",
   "execution_count": 2,
   "metadata": {
    "collapsed": false
   },
   "outputs": [
    {
     "name": "stderr",
     "output_type": "stream",
     "text": [
      "/Users/carldgosselin/anaconda/lib/python2.7/site-packages/sklearn/cross_validation.py:44: DeprecationWarning: This module was deprecated in version 0.18 in favor of the model_selection module into which all the refactored classes and functions are moved. Also note that the interface of the new CV iterators are different from that of this module. This module will be removed in 0.20.\n",
      "  \"This module will be removed in 0.20.\", DeprecationWarning)\n",
      "/Users/carldgosselin/anaconda/lib/python2.7/site-packages/matplotlib/collections.py:590: FutureWarning: elementwise comparison failed; returning scalar instead, but in the future will perform elementwise comparison\n",
      "  if self._edgecolors == str('face'):\n"
     ]
    },
    {
     "name": "stdout",
     "output_type": "stream",
     "text": [
      "\n",
      "\n"
     ]
    },
    {
     "data": {
      "image/png": "[encoded data removed]",
      "text/plain": [
       "<matplotlib.figure.Figure at 0x109ef6f90>"
      ]
     },
     "metadata": {},
     "output_type": "display_data"
    },
    {
     "name": "stdout",
     "output_type": "stream",
     "text": [
      "Score on training data\n",
      "regr.score(X_train, y_train):  0.98923993807 \n",
      "\n",
      "Score on testing (unseen) data\n",
      "regr.score(X_test, y_test): 0.90\n",
      "Mean squared error:  11.684727276 \n",
      "\n",
      "\n",
      "\n",
      "last day of processing: \n",
      "Date\n",
      "2017-01-12    226.529999\n",
      "Name: Adj Close, dtype: float64 \n",
      "\n",
      "Prediction for Friday Sept 23rd: \n",
      "[ 224.85990886] \n",
      "\n",
      "Actual close on Friday Sept 23rd: \n",
      "215.990005\n"
     ]
    }
   ],
   "source": [
    "import os\n",
    "import pandas as pd\n",
    "import numpy as np\n",
    "import scipy.optimize as spo\n",
    "import matplotlib.pyplot as plt\n",
    "%matplotlib inline \n",
    "\n",
    "from sklearn.cross_validation import train_test_split\n",
    "from sklearn import linear_model\n",
    "from sklearn.metrics import mean_squared_error\n",
    "\n",
    "def symbol_to_path(symbol, base_dir=\"data\"):\n",
    "    return os.path.join(base_dir, \"{}.csv\".format(str(symbol)))\n",
    "\n",
    "def plot_selected(df, columns, start_index, end_index):\n",
    "    plot_data(df.ix[start_index:end_index,columns], title=\"Stock Data\")\n",
    "       \n",
    "def plot_data(df, title):\n",
    "    ax = df.plot(title=title,fontsize=12,figsize=(12,10))\n",
    "    ax.set_xlabel(\"Date\")\n",
    "    ax.set_ylabel(\"Price\")\n",
    "    plt.legend(bbox_to_anchor=(1.05, 1), loc=2, borderaxespad=0.)\n",
    "    plt.show()\n",
    "\n",
    "def show_supervised_linear_regression():\n",
    "    \n",
    "    df = pd.read_csv(symbol_to_path('SPY'), index_col='Date', \n",
    "                parse_dates=True, \n",
    "                usecols=['Date', 'Open', 'High', 'Low', 'Close', 'Volume', 'Adj Close'], \n",
    "                na_values=['nan'])\n",
    "    \n",
    "    # sort data chronologically\n",
    "    df = df.sort_index(ascending=True, axis=0)\n",
    "    \n",
    "    # add new column to view Adj Close 5 days later\n",
    "    df['Adj_Close_5_Days_Later'] = df['Adj Close']\n",
    "    df['Adj_Close_5_Days_Later'] = df['Adj_Close_5_Days_Later'].shift(-5)\n",
    "    \n",
    "    X_train = df.iloc[0:1000,:-1]\n",
    "    y_train = df.iloc[0:1000, -1]\n",
    "    X_test = df.iloc[1000:1253,:-1]\n",
    "    y_test = df.iloc[1000:1253, -1]\n",
    "    # X_test = df.iloc[1252:1253,:-1]\n",
    "    # y_test = df.iloc[1252:1253, -1]\n",
    "    \n",
    "    \n",
    "    # Create linear regression object\n",
    "    regr = linear_model.LinearRegression()\n",
    "    \n",
    "    # Train the model using the training sets\n",
    "    regr.fit(X_train, y_train)\n",
    "    \n",
    "    # Query\n",
    "    regr.predict(X_test)\n",
    "    \n",
    "    # Plot outputs\n",
    "    print \"\\n\"\n",
    "    plt.figure(figsize=(12,10))\n",
    "    plt.title(\"Actual results vs machine learning predictions\")\n",
    "    plt.xlabel(\"Prediction\")\n",
    "    plt.ylabel(\"Actual result\")\n",
    "    plt.scatter(regr.predict(X_test), y_test, color='blue')\n",
    "    plt.show()\n",
    "    \n",
    "    # Explained variance score: 1 is perfect\n",
    "    # Score\n",
    "    print \"Score on training data\"\n",
    "    print \"regr.score(X_train, y_train): \", regr.score(X_train, y_train), \"\\n\"\n",
    "    \n",
    "    print \"Score on testing (unseen) data\"\n",
    "    print('regr.score(X_test, y_test): %.2f' % regr.score(X_test, y_test))\n",
    "    # The mean square error\n",
    "    print \"Mean squared error: \", mean_squared_error(y_test, regr.predict(X_test)), \"\\n\"\n",
    "    \n",
    "    print \"\\n\"\n",
    "    print \"last day of processing: \"\n",
    "    print X_test['Adj Close'].tail(1), \"\\n\"\n",
    "    print \"Prediction for Friday Sept 23rd: \"\n",
    "    print regr.predict(X_test[-1:]), \"\\n\"\n",
    "    print \"Actual close on Friday Sept 23rd: \"\n",
    "    print \"215.990005\"\n",
    "\n",
    "if __name__ == \"__main__\":\n",
    "    show_supervised_linear_regression()"
   ]
  },
  {
   "cell_type": "code",
   "execution_count": null,
   "metadata": {
    "collapsed": true
   },
   "outputs": [],
   "source": []
  }
 ],
 "metadata": {
  "kernelspec": {
   "display_name": "Python 2",
   "language": "python",
   "name": "python2"
  },
  "language_info": {
   "codemirror_mode": {
    "name": "ipython",
    "version": 2
   },
   "file_extension": ".py",
   "mimetype": "text/x-python",
   "name": "python",
   "nbconvert_exporter": "python",
   "pygments_lexer": "ipython2",
   "version": "2.7.12"
  }
 },
 "nbformat": 4,
 "nbformat_minor": 0
}
